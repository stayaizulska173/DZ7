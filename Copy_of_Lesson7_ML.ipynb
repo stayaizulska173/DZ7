{
  "nbformat": 4,
  "nbformat_minor": 0,
  "metadata": {
    "colab": {
      "name": "Copy of Lesson7_ML.ipynb",
      "provenance": [],
      "collapsed_sections": [
        "bhyoSROL_Cl9",
        "X_kqB_ZH_sBi",
        "qeuYuzjHPbrS",
        "t6ahvtSr_GCV"
      ],
      "toc_visible": true,
      "include_colab_link": true
    },
    "kernelspec": {
      "name": "python3",
      "display_name": "Python 3"
    },
    "accelerator": "GPU"
  },
  "cells": [
    {
      "cell_type": "markdown",
      "metadata": {
        "id": "view-in-github",
        "colab_type": "text"
      },
      "source": [
        "<a href=\"https://colab.research.google.com/github/stayaizulska173/DZ7/blob/master/Copy_of_Lesson7_ML.ipynb\" target=\"_parent\"><img src=\"https://colab.research.google.com/assets/colab-badge.svg\" alt=\"Open In Colab\"/></a>"
      ]
    },
    {
      "cell_type": "code",
      "metadata": {
        "id": "tsdb92oF_zUI",
        "colab_type": "code",
        "colab": {}
      },
      "source": [
        "import numpy as np\n",
        "import pandas as pd\n",
        "import matplotlib.pyplot as plt\n",
        "import sklearn\n",
        "from sklearn import linear_model, datasets\n",
        "from sklearn.metrics import mean_squared_error\n",
        "# import plotly.plotly as py \n",
        "# import plotly.graph_objs as go\n",
        "# from plotly.offline import download_plotlyjs, init_notebook_mode, plot, iplot\n",
        "# init_notebook_mode(connected=True)\n",
        "\n",
        "import seaborn as sns\n",
        "from sklearn.linear_model import LinearRegression, RidgeCV, LassoCV, ElasticNetCV\n",
        "from sklearn.metrics import mean_squared_error\n",
        "%matplotlib inline"
      ],
      "execution_count": 0,
      "outputs": []
    },
    {
      "cell_type": "markdown",
      "metadata": {
        "id": "bhyoSROL_Cl9",
        "colab_type": "text"
      },
      "source": [
        "## Linear Regression: Head Size  vs Brain Weight"
      ]
    },
    {
      "cell_type": "markdown",
      "metadata": {
        "id": "wClBFa5RRlXs",
        "colab_type": "text"
      },
      "source": [
        "**1. Read data**"
      ]
    },
    {
      "cell_type": "code",
      "metadata": {
        "id": "PNgJLuBV_E-V",
        "colab_type": "code",
        "colab": {}
      },
      "source": [
        "df = pd.read_csv('headbrain.csv')"
      ],
      "execution_count": 0,
      "outputs": []
    },
    {
      "cell_type": "code",
      "metadata": {
        "id": "yfjI8WqULqum",
        "colab_type": "code",
        "outputId": "1a1d25f5-2dbf-41bb-f15d-3cd832a47624",
        "colab": {
          "base_uri": "https://localhost:8080/",
          "height": 235
        }
      },
      "source": [
        "df.head(6)"
      ],
      "execution_count": 0,
      "outputs": [
        {
          "output_type": "execute_result",
          "data": {
            "text/html": [
              "<div>\n",
              "<style scoped>\n",
              "    .dataframe tbody tr th:only-of-type {\n",
              "        vertical-align: middle;\n",
              "    }\n",
              "\n",
              "    .dataframe tbody tr th {\n",
              "        vertical-align: top;\n",
              "    }\n",
              "\n",
              "    .dataframe thead th {\n",
              "        text-align: right;\n",
              "    }\n",
              "</style>\n",
              "<table border=\"1\" class=\"dataframe\">\n",
              "  <thead>\n",
              "    <tr style=\"text-align: right;\">\n",
              "      <th></th>\n",
              "      <th>Gender</th>\n",
              "      <th>Age Range</th>\n",
              "      <th>Head Size(cm^3)</th>\n",
              "      <th>Brain Weight(grams)</th>\n",
              "    </tr>\n",
              "  </thead>\n",
              "  <tbody>\n",
              "    <tr>\n",
              "      <th>0</th>\n",
              "      <td>1</td>\n",
              "      <td>1</td>\n",
              "      <td>4512</td>\n",
              "      <td>1530</td>\n",
              "    </tr>\n",
              "    <tr>\n",
              "      <th>1</th>\n",
              "      <td>1</td>\n",
              "      <td>1</td>\n",
              "      <td>3738</td>\n",
              "      <td>1297</td>\n",
              "    </tr>\n",
              "    <tr>\n",
              "      <th>2</th>\n",
              "      <td>1</td>\n",
              "      <td>1</td>\n",
              "      <td>4261</td>\n",
              "      <td>1335</td>\n",
              "    </tr>\n",
              "    <tr>\n",
              "      <th>3</th>\n",
              "      <td>1</td>\n",
              "      <td>1</td>\n",
              "      <td>3777</td>\n",
              "      <td>1282</td>\n",
              "    </tr>\n",
              "    <tr>\n",
              "      <th>4</th>\n",
              "      <td>1</td>\n",
              "      <td>1</td>\n",
              "      <td>4177</td>\n",
              "      <td>1590</td>\n",
              "    </tr>\n",
              "    <tr>\n",
              "      <th>5</th>\n",
              "      <td>1</td>\n",
              "      <td>1</td>\n",
              "      <td>3585</td>\n",
              "      <td>1300</td>\n",
              "    </tr>\n",
              "  </tbody>\n",
              "</table>\n",
              "</div>"
            ],
            "text/plain": [
              "   Gender  Age Range  Head Size(cm^3)  Brain Weight(grams)\n",
              "0       1          1             4512                 1530\n",
              "1       1          1             3738                 1297\n",
              "2       1          1             4261                 1335\n",
              "3       1          1             3777                 1282\n",
              "4       1          1             4177                 1590\n",
              "5       1          1             3585                 1300"
            ]
          },
          "metadata": {
            "tags": []
          },
          "execution_count": 4
        }
      ]
    },
    {
      "cell_type": "code",
      "metadata": {
        "id": "HD4IgFS1MKU2",
        "colab_type": "code",
        "outputId": "ea90ae93-f971-47c2-e7e7-80f1d533adcf",
        "colab": {
          "base_uri": "https://localhost:8080/",
          "height": 119
        }
      },
      "source": [
        "col = df['Head Size(cm^3)'] \n",
        "col.head(5)"
      ],
      "execution_count": 0,
      "outputs": [
        {
          "output_type": "execute_result",
          "data": {
            "text/plain": [
              "0    4512\n",
              "1    3738\n",
              "2    4261\n",
              "3    3777\n",
              "4    4177\n",
              "Name: Head Size(cm^3), dtype: int64"
            ]
          },
          "metadata": {
            "tags": []
          },
          "execution_count": 5
        }
      ]
    },
    {
      "cell_type": "code",
      "metadata": {
        "id": "ku0OZEpDNLTg",
        "colab_type": "code",
        "outputId": "8962a2e0-bea2-49de-ae5d-6d7a992745a6",
        "colab": {
          "base_uri": "https://localhost:8080/",
          "height": 51
        }
      },
      "source": [
        "# delete empty rows\n",
        "clean_df = df.dropna()\n",
        "print(df.size)\n",
        "print(clean_df.size)"
      ],
      "execution_count": 0,
      "outputs": [
        {
          "output_type": "stream",
          "text": [
            "948\n",
            "948\n"
          ],
          "name": "stdout"
        }
      ]
    },
    {
      "cell_type": "markdown",
      "metadata": {
        "id": "D7htZEVLQVCO",
        "colab_type": "text"
      },
      "source": [
        "**2. Split into train and test**"
      ]
    },
    {
      "cell_type": "code",
      "metadata": {
        "id": "OswxTmRgPe4P",
        "colab_type": "code",
        "colab": {}
      },
      "source": [
        "from sklearn.model_selection import train_test_split"
      ],
      "execution_count": 0,
      "outputs": []
    },
    {
      "cell_type": "code",
      "metadata": {
        "id": "ZCH4Mdx6VS8c",
        "colab_type": "code",
        "colab": {}
      },
      "source": [
        "from sklearn.model_selection import train_test_split\n",
        "training_set, test_set = train_test_split(df, test_size=0.2)"
      ],
      "execution_count": 0,
      "outputs": []
    },
    {
      "cell_type": "code",
      "metadata": {
        "id": "2fWk_JiiWXiu",
        "colab_type": "code",
        "colab": {}
      },
      "source": [
        "y_training_set = training_set['Brain Weight(grams)'].to_numpy()\n",
        "x_training_set = training_set['Head Size(cm^3)'].to_numpy()\n",
        "\n",
        "y_test_set = test_set['Brain Weight(grams)'].to_numpy()\n",
        "x_test_set = test_set['Head Size(cm^3)'].to_numpy()"
      ],
      "execution_count": 0,
      "outputs": []
    },
    {
      "cell_type": "markdown",
      "metadata": {
        "id": "C7hG3hX6RsR1",
        "colab_type": "text"
      },
      "source": [
        "**3. Plot**"
      ]
    },
    {
      "cell_type": "code",
      "metadata": {
        "id": "hRCqUcH-Rrbp",
        "colab_type": "code",
        "outputId": "458bceb1-f241-45c6-a0bb-dca6c407d4ab",
        "colab": {
          "base_uri": "https://localhost:8080/",
          "height": 281
        }
      },
      "source": [
        "plt.title('Relationship between X and Y')\n",
        "plt.scatter(x_training_set, y_training_set,  color='black')\n",
        "plt.show()"
      ],
      "execution_count": 0,
      "outputs": [
        {
          "output_type": "display_data",
          "data": {
            "image/png": "[encoded data removed]",
            "text/plain": [
              "<Figure size 432x288 with 1 Axes>"
            ]
          },
          "metadata": {
            "tags": []
          }
        }
      ]
    },
    {
      "cell_type": "markdown",
      "metadata": {
        "id": "PxwmnkPySgwJ",
        "colab_type": "text"
      },
      "source": [
        "**4. Model**"
      ]
    },
    {
      "cell_type": "code",
      "metadata": {
        "id": "2xJ1pAsnYutO",
        "colab_type": "code",
        "colab": {}
      },
      "source": [
        "x = x_training_set.reshape(-1, 1)\n",
        "x_test = x_test_set.reshape(-1, 1)\n",
        "\n",
        "y = y_training_set.reshape(-1, 1)\n",
        "y_test = y_test_set.reshape(-1, 1)"
      ],
      "execution_count": 0,
      "outputs": []
    },
    {
      "cell_type": "code",
      "metadata": {
        "id": "6zH5qY4gSd_g",
        "colab_type": "code",
        "outputId": "b9d8813c-9c5a-4b77-fef3-11ff25a03700",
        "colab": {
          "base_uri": "https://localhost:8080/",
          "height": 51
        }
      },
      "source": [
        "from sklearn import linear_model\n",
        "from sklearn.metrics import mean_squared_error, r2_score\n",
        "import math\n",
        "\n",
        "lr = linear_model.LinearRegression()\n",
        "\n",
        "lr.fit(x, y_training_set)\n",
        "\n",
        "print('R sq: ', lr.score(x ,y_training_set))\n",
        "print('Correlation: ', math.sqrt(lr.score(x, y_training_set)))"
      ],
      "execution_count": 0,
      "outputs": [
        {
          "output_type": "stream",
          "text": [
            "R sq:  0.6426481851189627\n",
            "Correlation:  0.8016534071024477\n"
          ],
          "name": "stdout"
        }
      ]
    },
    {
      "cell_type": "markdown",
      "metadata": {
        "id": "Fa_rohm-S1Az",
        "colab_type": "text"
      },
      "source": [
        "**5. Predict**"
      ]
    },
    {
      "cell_type": "code",
      "metadata": {
        "id": "5fuW8elDS3lo",
        "colab_type": "code",
        "outputId": "21fb2df9-c79e-4edd-80bb-936001b9252e",
        "colab": {
          "base_uri": "https://localhost:8080/",
          "height": 295
        }
      },
      "source": [
        "y_predicted = lr.predict(x_test)\n",
        "\n",
        "plt.title('Predicted vs real Y')\n",
        "plt.ylabel('X test')\n",
        "plt.xlabel('Y')\n",
        "plt.scatter(x_test, y_predicted,  color='black')\n",
        "plt.scatter(x_test, y_test,  color='red')\n",
        "\n",
        "plt.show()"
      ],
      "execution_count": 0,
      "outputs": [
        {
          "output_type": "display_data",
          "data": {
            "image/png": "[encoded data removed]",
            "text/plain": [
              "<Figure size 432x288 with 1 Axes>"
            ]
          },
          "metadata": {
            "tags": []
          }
        }
      ]
    },
    {
      "cell_type": "code",
      "metadata": {
        "id": "8E1Xoz7GdDNj",
        "colab_type": "code",
        "outputId": "5aef815d-46b3-4c56-85bd-01ec295fbd89",
        "colab": {
          "base_uri": "https://localhost:8080/",
          "height": 295
        }
      },
      "source": [
        "plt.title('Predicted vs real Y')\n",
        "plt.ylabel('X test')\n",
        "plt.xlabel('Predicted values')\n",
        "plt.scatter(x_test, y_test,  color='black')\n",
        "plt.plot(x_test, y_predicted, color='blue', linewidth=3)\n",
        "\n",
        "plt.show()"
      ],
      "execution_count": 0,
      "outputs": [
        {
          "output_type": "display_data",
          "data": {
            "image/png": "[encoded data removed]",
            "text/plain": [
              "<Figure size 432x288 with 1 Axes>"
            ]
          },
          "metadata": {
            "tags": []
          }
        }
      ]
    },
    {
      "cell_type": "code",
      "metadata": {
        "id": "JcZNzabIaLgw",
        "colab_type": "code",
        "outputId": "e06fc745-75e8-474c-c2f0-e9e8cc16d4d1",
        "colab": {
          "base_uri": "https://localhost:8080/",
          "height": 51
        }
      },
      "source": [
        "print(\"Coefficients: \", lr.coef_)\n",
        "print(\"Mean squared error: %.2f\"  % mean_squared_error(y_test_set, y_predicted))"
      ],
      "execution_count": 0,
      "outputs": [
        {
          "output_type": "stream",
          "text": [
            "Coefficients:  [0.26618947]\n",
            "Mean squared error: 4346.32\n"
          ],
          "name": "stdout"
        }
      ]
    },
    {
      "cell_type": "markdown",
      "metadata": {
        "id": "X_kqB_ZH_sBi",
        "colab_type": "text"
      },
      "source": [
        "## Polynimial Regressoion"
      ]
    },
    {
      "cell_type": "markdown",
      "metadata": {
        "id": "CTVb6fu8DDqf",
        "colab_type": "text"
      },
      "source": [
        "**1. Read data**"
      ]
    },
    {
      "cell_type": "code",
      "metadata": {
        "id": "WUzRsn9GB3kv",
        "colab_type": "code",
        "outputId": "d23eb7d2-2241-4e13-fe38-b4cfb872ec5c",
        "colab": {
          "base_uri": "https://localhost:8080/",
          "height": 328
        }
      },
      "source": [
        "data = pd.read_csv('Position_Salaries.csv')\n",
        "data.head(12)"
      ],
      "execution_count": 0,
      "outputs": [
        {
          "output_type": "execute_result",
          "data": {
            "text/html": [
              "<div>\n",
              "<style scoped>\n",
              "    .dataframe tbody tr th:only-of-type {\n",
              "        vertical-align: middle;\n",
              "    }\n",
              "\n",
              "    .dataframe tbody tr th {\n",
              "        vertical-align: top;\n",
              "    }\n",
              "\n",
              "    .dataframe thead th {\n",
              "        text-align: right;\n",
              "    }\n",
              "</style>\n",
              "<table border=\"1\" class=\"dataframe\">\n",
              "  <thead>\n",
              "    <tr style=\"text-align: right;\">\n",
              "      <th></th>\n",
              "      <th>Business Analyst</th>\n",
              "      <th>1</th>\n",
              "      <th>45000</th>\n",
              "    </tr>\n",
              "  </thead>\n",
              "  <tbody>\n",
              "    <tr>\n",
              "      <th>0</th>\n",
              "      <td>Junior Consultant</td>\n",
              "      <td>2</td>\n",
              "      <td>50000</td>\n",
              "    </tr>\n",
              "    <tr>\n",
              "      <th>1</th>\n",
              "      <td>Senior Consultant</td>\n",
              "      <td>3</td>\n",
              "      <td>60000</td>\n",
              "    </tr>\n",
              "    <tr>\n",
              "      <th>2</th>\n",
              "      <td>Manager</td>\n",
              "      <td>4</td>\n",
              "      <td>80000</td>\n",
              "    </tr>\n",
              "    <tr>\n",
              "      <th>3</th>\n",
              "      <td>Country Manager</td>\n",
              "      <td>5</td>\n",
              "      <td>110000</td>\n",
              "    </tr>\n",
              "    <tr>\n",
              "      <th>4</th>\n",
              "      <td>Region Manager</td>\n",
              "      <td>6</td>\n",
              "      <td>150000</td>\n",
              "    </tr>\n",
              "    <tr>\n",
              "      <th>5</th>\n",
              "      <td>Partner</td>\n",
              "      <td>7</td>\n",
              "      <td>200000</td>\n",
              "    </tr>\n",
              "    <tr>\n",
              "      <th>6</th>\n",
              "      <td>Senior Partner</td>\n",
              "      <td>8</td>\n",
              "      <td>300000</td>\n",
              "    </tr>\n",
              "    <tr>\n",
              "      <th>7</th>\n",
              "      <td>C-level</td>\n",
              "      <td>9</td>\n",
              "      <td>500000</td>\n",
              "    </tr>\n",
              "    <tr>\n",
              "      <th>8</th>\n",
              "      <td>CEO</td>\n",
              "      <td>10</td>\n",
              "      <td>1000000</td>\n",
              "    </tr>\n",
              "  </tbody>\n",
              "</table>\n",
              "</div>"
            ],
            "text/plain": [
              "    Business Analyst   1    45000\n",
              "0  Junior Consultant   2    50000\n",
              "1  Senior Consultant   3    60000\n",
              "2            Manager   4    80000\n",
              "3    Country Manager   5   110000\n",
              "4     Region Manager   6   150000\n",
              "5            Partner   7   200000\n",
              "6     Senior Partner   8   300000\n",
              "7            C-level   9   500000\n",
              "8                CEO  10  1000000"
            ]
          },
          "metadata": {
            "tags": []
          },
          "execution_count": 17
        }
      ]
    },
    {
      "cell_type": "code",
      "metadata": {
        "id": "5erwGsXIpsPN",
        "colab_type": "code",
        "colab": {}
      },
      "source": [
        "X = data.iloc[:, 1:2].values\n",
        "y = data.iloc[:, 2].values"
      ],
      "execution_count": 0,
      "outputs": []
    },
    {
      "cell_type": "markdown",
      "metadata": {
        "id": "iHFDSZglDIj1",
        "colab_type": "text"
      },
      "source": [
        "**2. Appply linear regression**"
      ]
    },
    {
      "cell_type": "code",
      "metadata": {
        "id": "0g0MSfobDQXe",
        "colab_type": "code",
        "outputId": "a6a268ae-e214-47b9-81ae-9e4fa9623239",
        "colab": {
          "base_uri": "https://localhost:8080/",
          "height": 34
        }
      },
      "source": [
        "lr = LinearRegression()\n",
        "lr.fit(X, y)"
      ],
      "execution_count": 0,
      "outputs": [
        {
          "output_type": "execute_result",
          "data": {
            "text/plain": [
              "LinearRegression(copy_X=True, fit_intercept=True, n_jobs=None, normalize=False)"
            ]
          },
          "metadata": {
            "tags": []
          },
          "execution_count": 19
        }
      ]
    },
    {
      "cell_type": "markdown",
      "metadata": {
        "id": "LwtoI_14EWFQ",
        "colab_type": "text"
      },
      "source": [
        "**3. Apply polynimial rgression**"
      ]
    },
    {
      "cell_type": "code",
      "metadata": {
        "id": "e5eHjWESpxhS",
        "colab_type": "code",
        "outputId": "54f123f5-b3a4-4281-dc1c-67e85ecfbaed",
        "colab": {
          "base_uri": "https://localhost:8080/",
          "height": 34
        }
      },
      "source": [
        "from sklearn.preprocessing import PolynomialFeatures\n",
        "\n",
        "pr = PolynomialFeatures(degree = 4)\n",
        "X_poly = pr.fit_transform(X)\n",
        "pr.fit(X_poly, y)\n",
        "\n",
        "lr2 = LinearRegression()\n",
        "lr2.fit(X_poly, y)"
      ],
      "execution_count": 0,
      "outputs": [
        {
          "output_type": "execute_result",
          "data": {
            "text/plain": [
              "LinearRegression(copy_X=True, fit_intercept=True, n_jobs=None, normalize=False)"
            ]
          },
          "metadata": {
            "tags": []
          },
          "execution_count": 20
        }
      ]
    },
    {
      "cell_type": "markdown",
      "metadata": {
        "id": "R5-wWXDIElxF",
        "colab_type": "text"
      },
      "source": [
        "**4. Plot Linear**"
      ]
    },
    {
      "cell_type": "code",
      "metadata": {
        "id": "1TV7XfnFpzZN",
        "colab_type": "code",
        "outputId": "aaf94a4d-56eb-4415-c21e-465275e2890d",
        "colab": {
          "base_uri": "https://localhost:8080/",
          "height": 295
        }
      },
      "source": [
        "plt.scatter(X, y, color = 'red')\n",
        "plt.plot(X, lr.predict(X), color = 'blue')\n",
        "plt.title('Linear Regression')\n",
        "plt.xlabel('Position level')\n",
        "plt.ylabel('Salary')\n",
        "plt.show()"
      ],
      "execution_count": 0,
      "outputs": [
        {
          "output_type": "display_data",
          "data": {
            "image/png": "[encoded data removed]",
            "text/plain": [
              "<Figure size 432x288 with 1 Axes>"
            ]
          },
          "metadata": {
            "tags": []
          }
        }
      ]
    },
    {
      "cell_type": "markdown",
      "metadata": {
        "id": "HbVpPdzmFXje",
        "colab_type": "text"
      },
      "source": [
        "**5. Plot Polynomial**"
      ]
    },
    {
      "cell_type": "code",
      "metadata": {
        "id": "A-TqJJEOp1y2",
        "colab_type": "code",
        "outputId": "f6ab2ffd-0761-4235-fd0b-8a9d1bce5fa7",
        "colab": {
          "base_uri": "https://localhost:8080/",
          "height": 295
        }
      },
      "source": [
        "plt.scatter(X, y, color = 'red')\n",
        "plt.plot(X, lr2.predict(pr.fit_transform(X)), color = 'blue')\n",
        "plt.title('Polynomial Regression')\n",
        "plt.xlabel('Position level')\n",
        "plt.ylabel('Salary')\n",
        "\n",
        "plt.show()"
      ],
      "execution_count": 0,
      "outputs": [
        {
          "output_type": "display_data",
          "data": {
            "image/png": "[encoded data removed]",
            "text/plain": [
              "<Figure size 432x288 with 1 Axes>"
            ]
          },
          "metadata": {
            "tags": []
          }
        }
      ]
    },
    {
      "cell_type": "markdown",
      "metadata": {
        "id": "XXA0282mGAq3",
        "colab_type": "text"
      },
      "source": [
        "**6. Predict with Linear Regression**"
      ]
    },
    {
      "cell_type": "code",
      "metadata": {
        "id": "zEmoGzwFp_25",
        "colab_type": "code",
        "outputId": "1672adee-39b1-4d0b-86a1-f4d4edb27e57",
        "colab": {
          "base_uri": "https://localhost:8080/",
          "height": 34
        }
      },
      "source": [
        "lr.predict([[11]])"
      ],
      "execution_count": 0,
      "outputs": [
        {
          "output_type": "execute_result",
          "data": {
            "text/plain": [
              "array([743055.55555556])"
            ]
          },
          "metadata": {
            "tags": []
          },
          "execution_count": 23
        }
      ]
    },
    {
      "cell_type": "markdown",
      "metadata": {
        "id": "CisHTahvqBzy",
        "colab_type": "text"
      },
      "source": [
        "**7. Predict with Polinomial Regression**"
      ]
    },
    {
      "cell_type": "code",
      "metadata": {
        "id": "CBLVObcZqJFM",
        "colab_type": "code",
        "outputId": "dc4668d5-59fc-4c63-c0e1-1ffdc05efb12",
        "colab": {
          "base_uri": "https://localhost:8080/",
          "height": 34
        }
      },
      "source": [
        "lr2.predict(pr.fit_transform([[11]]))"
      ],
      "execution_count": 0,
      "outputs": [
        {
          "output_type": "execute_result",
          "data": {
            "text/plain": [
              "array([1847222.22222238])"
            ]
          },
          "metadata": {
            "tags": []
          },
          "execution_count": 25
        }
      ]
    },
    {
      "cell_type": "markdown",
      "metadata": {
        "id": "qeuYuzjHPbrS",
        "colab_type": "text"
      },
      "source": [
        "## PLA Strenght "
      ]
    },
    {
      "cell_type": "markdown",
      "metadata": {
        "id": "D3UZ0a-dQk4A",
        "colab_type": "text"
      },
      "source": [
        "**1. Read data**"
      ]
    },
    {
      "cell_type": "code",
      "metadata": {
        "id": "7jx2DFnaPeM4",
        "colab_type": "code",
        "colab": {}
      },
      "source": [
        "df = pd.read_csv('PLA.csv')"
      ],
      "execution_count": 0,
      "outputs": []
    },
    {
      "cell_type": "code",
      "metadata": {
        "id": "eKzIAMFDPn_P",
        "colab_type": "code",
        "outputId": "0f4b79c5-be98-4790-9c80-b8147618c89c",
        "colab": {
          "base_uri": "https://localhost:8080/",
          "height": 359
        }
      },
      "source": [
        "df.head(10)"
      ],
      "execution_count": 0,
      "outputs": [
        {
          "output_type": "execute_result",
          "data": {
            "text/html": [
              "<div>\n",
              "<style scoped>\n",
              "    .dataframe tbody tr th:only-of-type {\n",
              "        vertical-align: middle;\n",
              "    }\n",
              "\n",
              "    .dataframe tbody tr th {\n",
              "        vertical-align: top;\n",
              "    }\n",
              "\n",
              "    .dataframe thead th {\n",
              "        text-align: right;\n",
              "    }\n",
              "</style>\n",
              "<table border=\"1\" class=\"dataframe\">\n",
              "  <thead>\n",
              "    <tr style=\"text-align: right;\">\n",
              "      <th></th>\n",
              "      <th>Temp</th>\n",
              "      <th>UFS</th>\n",
              "    </tr>\n",
              "  </thead>\n",
              "  <tbody>\n",
              "    <tr>\n",
              "      <th>0</th>\n",
              "      <td>0</td>\n",
              "      <td>0</td>\n",
              "    </tr>\n",
              "    <tr>\n",
              "      <th>1</th>\n",
              "      <td>73</td>\n",
              "      <td>56,29</td>\n",
              "    </tr>\n",
              "    <tr>\n",
              "      <th>2</th>\n",
              "      <td>124</td>\n",
              "      <td>64,6</td>\n",
              "    </tr>\n",
              "    <tr>\n",
              "      <th>3</th>\n",
              "      <td>79</td>\n",
              "      <td>58,9</td>\n",
              "    </tr>\n",
              "    <tr>\n",
              "      <th>4</th>\n",
              "      <td>61</td>\n",
              "      <td>54,2</td>\n",
              "    </tr>\n",
              "    <tr>\n",
              "      <th>5</th>\n",
              "      <td>54</td>\n",
              "      <td>45,5</td>\n",
              "    </tr>\n",
              "    <tr>\n",
              "      <th>6</th>\n",
              "      <td>48</td>\n",
              "      <td>41,1</td>\n",
              "    </tr>\n",
              "    <tr>\n",
              "      <th>7</th>\n",
              "      <td>41</td>\n",
              "      <td>37,9</td>\n",
              "    </tr>\n",
              "    <tr>\n",
              "      <th>8</th>\n",
              "      <td>38</td>\n",
              "      <td>NaN</td>\n",
              "    </tr>\n",
              "    <tr>\n",
              "      <th>9</th>\n",
              "      <td>34</td>\n",
              "      <td>NaN</td>\n",
              "    </tr>\n",
              "  </tbody>\n",
              "</table>\n",
              "</div>"
            ],
            "text/plain": [
              "   Temp    UFS\n",
              "0     0      0\n",
              "1    73  56,29\n",
              "2   124   64,6\n",
              "3    79   58,9\n",
              "4    61   54,2\n",
              "5    54   45,5\n",
              "6    48   41,1\n",
              "7    41   37,9\n",
              "8    38    NaN\n",
              "9    34    NaN"
            ]
          },
          "metadata": {
            "tags": []
          },
          "execution_count": 201
        }
      ]
    },
    {
      "cell_type": "code",
      "metadata": {
        "id": "T3CHGeznQHOQ",
        "colab_type": "code",
        "outputId": "3b2f1789-9140-4930-ced5-babbe7be28d3",
        "colab": {
          "base_uri": "https://localhost:8080/",
          "height": 359
        }
      },
      "source": [
        "cdf = df.dropna()\n",
        "cdf = cdf.drop([0])\n",
        "cdf.head(10)"
      ],
      "execution_count": 0,
      "outputs": [
        {
          "output_type": "execute_result",
          "data": {
            "text/html": [
              "<div>\n",
              "<style scoped>\n",
              "    .dataframe tbody tr th:only-of-type {\n",
              "        vertical-align: middle;\n",
              "    }\n",
              "\n",
              "    .dataframe tbody tr th {\n",
              "        vertical-align: top;\n",
              "    }\n",
              "\n",
              "    .dataframe thead th {\n",
              "        text-align: right;\n",
              "    }\n",
              "</style>\n",
              "<table border=\"1\" class=\"dataframe\">\n",
              "  <thead>\n",
              "    <tr style=\"text-align: right;\">\n",
              "      <th></th>\n",
              "      <th>Temp</th>\n",
              "      <th>UFS</th>\n",
              "    </tr>\n",
              "  </thead>\n",
              "  <tbody>\n",
              "    <tr>\n",
              "      <th>1</th>\n",
              "      <td>73</td>\n",
              "      <td>56,29</td>\n",
              "    </tr>\n",
              "    <tr>\n",
              "      <th>2</th>\n",
              "      <td>124</td>\n",
              "      <td>64,6</td>\n",
              "    </tr>\n",
              "    <tr>\n",
              "      <th>3</th>\n",
              "      <td>79</td>\n",
              "      <td>58,9</td>\n",
              "    </tr>\n",
              "    <tr>\n",
              "      <th>4</th>\n",
              "      <td>61</td>\n",
              "      <td>54,2</td>\n",
              "    </tr>\n",
              "    <tr>\n",
              "      <th>5</th>\n",
              "      <td>54</td>\n",
              "      <td>45,5</td>\n",
              "    </tr>\n",
              "    <tr>\n",
              "      <th>6</th>\n",
              "      <td>48</td>\n",
              "      <td>41,1</td>\n",
              "    </tr>\n",
              "    <tr>\n",
              "      <th>7</th>\n",
              "      <td>41</td>\n",
              "      <td>37,9</td>\n",
              "    </tr>\n",
              "    <tr>\n",
              "      <th>10</th>\n",
              "      <td>85</td>\n",
              "      <td>61</td>\n",
              "    </tr>\n",
              "    <tr>\n",
              "      <th>11</th>\n",
              "      <td>138</td>\n",
              "      <td>71</td>\n",
              "    </tr>\n",
              "    <tr>\n",
              "      <th>12</th>\n",
              "      <td>95</td>\n",
              "      <td>65</td>\n",
              "    </tr>\n",
              "  </tbody>\n",
              "</table>\n",
              "</div>"
            ],
            "text/plain": [
              "    Temp    UFS\n",
              "1     73  56,29\n",
              "2    124   64,6\n",
              "3     79   58,9\n",
              "4     61   54,2\n",
              "5     54   45,5\n",
              "6     48   41,1\n",
              "7     41   37,9\n",
              "10    85     61\n",
              "11   138     71\n",
              "12    95     65"
            ]
          },
          "metadata": {
            "tags": []
          },
          "execution_count": 206
        }
      ]
    },
    {
      "cell_type": "code",
      "metadata": {
        "id": "2gEQ7OcxQ3zw",
        "colab_type": "code",
        "colab": {}
      },
      "source": [
        "sorded_cdf = cdf.sort_values('Temp')\n",
        "\n",
        "X_train = sorded_cdf.iloc[:, 0:1].values\n",
        "Y_train = sorded_cdf.iloc[:, 1].values\n",
        "\n",
        "Y_train = [y.replace(',', '.') for y in Y_train]"
      ],
      "execution_count": 0,
      "outputs": []
    },
    {
      "cell_type": "markdown",
      "metadata": {
        "id": "5KL4oQkUQoJX",
        "colab_type": "text"
      },
      "source": [
        "**2. Model**\n"
      ]
    },
    {
      "cell_type": "code",
      "metadata": {
        "id": "63LRZCTwQwjY",
        "colab_type": "code",
        "outputId": "217bbf61-ad43-4ec3-a97c-35c4577a776b",
        "colab": {
          "base_uri": "https://localhost:8080/",
          "height": 34
        }
      },
      "source": [
        "lr = LinearRegression()\n",
        "lr.fit(X_train, Y_train)"
      ],
      "execution_count": 0,
      "outputs": [
        {
          "output_type": "execute_result",
          "data": {
            "text/plain": [
              "LinearRegression(copy_X=True, fit_intercept=True, n_jobs=None, normalize=False)"
            ]
          },
          "metadata": {
            "tags": []
          },
          "execution_count": 208
        }
      ]
    },
    {
      "cell_type": "markdown",
      "metadata": {
        "id": "p_FGbkIrSs26",
        "colab_type": "text"
      },
      "source": [
        "**3. Polynomial Regression**"
      ]
    },
    {
      "cell_type": "code",
      "metadata": {
        "id": "YWGl8LIiTAKJ",
        "colab_type": "code",
        "outputId": "6b947f1d-efc9-4220-c1ca-eb2c808a0138",
        "colab": {
          "base_uri": "https://localhost:8080/",
          "height": 34
        }
      },
      "source": [
        "pr = PolynomialFeatures(degree = 3)\n",
        "X_poly = pr.fit_transform(X_train)\n",
        "pr.fit(X_poly, Y_train)\n",
        "\n",
        "lr3 = LinearRegression()\n",
        "lr3.fit(X_poly, Y_train)"
      ],
      "execution_count": 0,
      "outputs": [
        {
          "output_type": "execute_result",
          "data": {
            "text/plain": [
              "LinearRegression(copy_X=True, fit_intercept=True, n_jobs=None, normalize=False)"
            ]
          },
          "metadata": {
            "tags": []
          },
          "execution_count": 209
        }
      ]
    },
    {
      "cell_type": "markdown",
      "metadata": {
        "id": "aUmeJPGEToCr",
        "colab_type": "text"
      },
      "source": [
        "**4. Plot Linear**"
      ]
    },
    {
      "cell_type": "code",
      "metadata": {
        "id": "Q_pIOY3Ul1AF",
        "colab_type": "code",
        "outputId": "9c0a0ec4-3c32-4fa5-a35c-1880b9f7fb27",
        "colab": {
          "base_uri": "https://localhost:8080/",
          "height": 85
        }
      },
      "source": [
        "lr.predict(X_train)"
      ],
      "execution_count": 0,
      "outputs": [
        {
          "output_type": "execute_result",
          "data": {
            "text/plain": [
              "array([45.59798383, 45.59798383, 47.75772666, 49.6089348 , 51.46014293,\n",
              "       51.76867762, 53.92842045, 54.23695514, 54.54548983, 55.4710939 ,\n",
              "       55.77962859, 56.70523266, 57.01376734, 57.32230203, 59.17351017,\n",
              "       62.25885707, 65.03566927, 67.1954121 , 71.20636306, 75.52584871])"
            ]
          },
          "metadata": {
            "tags": []
          },
          "execution_count": 211
        }
      ]
    },
    {
      "cell_type": "code",
      "metadata": {
        "id": "xR_MsO-1l9Ok",
        "colab_type": "code",
        "outputId": "6cd1f1d2-8b41-4d26-ee73-826a73e7c341",
        "colab": {
          "base_uri": "https://localhost:8080/",
          "height": 85
        }
      },
      "source": [
        "lr3.predict(pr.fit_transform(X_train))"
      ],
      "execution_count": 0,
      "outputs": [
        {
          "output_type": "execute_result",
          "data": {
            "text/plain": [
              "array([40.83781933, 40.83781933, 45.17683425, 48.56455213, 51.65668486,\n",
              "       52.14399185, 55.33668888, 55.76212617, 56.18003417, 57.38903669,\n",
              "       57.77728179, 58.8983859 , 59.25769495, 59.60988355, 61.57602975,\n",
              "       64.31358923, 66.2333284 , 67.39215996, 68.82531153, 69.42074726])"
            ]
          },
          "metadata": {
            "tags": []
          },
          "execution_count": 212
        }
      ]
    },
    {
      "cell_type": "code",
      "metadata": {
        "id": "rt5SafO4Ti9q",
        "colab_type": "code",
        "outputId": "74a1818e-d2b0-4d5b-e238-cd43336f6f5d",
        "colab": {
          "base_uri": "https://localhost:8080/",
          "height": 295
        }
      },
      "source": [
        "x0 = X_train\n",
        "x0[0] = 0\n",
        "\n",
        "y0 = Y_train\n",
        "y0[0] = 0\n",
        "\n",
        "plt.scatter(x0, y0, color = 'red')\n",
        "plt.plot(X_train, lr.predict(X_train), color = 'blue')\n",
        "plt.title('Linear Regression')\n",
        "plt.xlabel('Sublayer Temperature')\n",
        "plt.ylabel('UFS')\n",
        "plt.axis([0, 150, 0, 120])\n",
        "\n",
        "plt.show()"
      ],
      "execution_count": 0,
      "outputs": [
        {
          "output_type": "display_data",
          "data": {
            "image/png": "[encoded data removed]",
            "text/plain": [
              "<Figure size 432x288 with 1 Axes>"
            ]
          },
          "metadata": {
            "tags": []
          }
        }
      ]
    },
    {
      "cell_type": "markdown",
      "metadata": {
        "id": "J-Stiz9MVEDT",
        "colab_type": "text"
      },
      "source": [
        "**5. Plot Polynomial**"
      ]
    },
    {
      "cell_type": "code",
      "metadata": {
        "id": "0iLU8NuoU8hD",
        "colab_type": "code",
        "outputId": "12114a96-50fb-4039-fdd9-d7538f6fa56d",
        "colab": {
          "base_uri": "https://localhost:8080/",
          "height": 295
        }
      },
      "source": [
        "plt.scatter(x0, y0, color = 'red')\n",
        "plt.plot(X_train, lr3.predict(pr.fit_transform(X_train)), color = 'blue')\n",
        "plt.title('Polynomial Regression')\n",
        "plt.xlabel('Sublayer Temperature')\n",
        "plt.ylabel('UFS')\n",
        "\n",
        "plt.show(plt.xticks, plt.yticks)"
      ],
      "execution_count": 0,
      "outputs": [
        {
          "output_type": "display_data",
          "data": {
            "image/png": "[encoded data removed]",
            "text/plain": [
              "<Figure size 432x288 with 1 Axes>"
            ]
          },
          "metadata": {
            "tags": []
          }
        }
      ]
    },
    {
      "cell_type": "markdown",
      "metadata": {
        "id": "Yx62BFWZZobG",
        "colab_type": "text"
      },
      "source": [
        "**6. Predict**"
      ]
    },
    {
      "cell_type": "code",
      "metadata": {
        "id": "Zi414vISZsFF",
        "colab_type": "code",
        "outputId": "2e07aa3e-8bd5-4757-8391-b35d6a87e694",
        "colab": {
          "base_uri": "https://localhost:8080/",
          "height": 34
        }
      },
      "source": [
        "lr.predict([[55]]) # i.e. what would be the UFS if subpayer temp is 55C?"
      ],
      "execution_count": 0,
      "outputs": [
        {
          "output_type": "execute_result",
          "data": {
            "text/plain": [
              "array([49.91746949])"
            ]
          },
          "metadata": {
            "tags": []
          },
          "execution_count": 220
        }
      ]
    },
    {
      "cell_type": "code",
      "metadata": {
        "id": "oO3pPqa4ZvVV",
        "colab_type": "code",
        "outputId": "369402b4-cec8-457a-d220-fb3bfd0dccce",
        "colab": {
          "base_uri": "https://localhost:8080/",
          "height": 34
        }
      },
      "source": [
        "lr3.predict(pr.fit_transform([[55]])) "
      ],
      "execution_count": 0,
      "outputs": [
        {
          "output_type": "execute_result",
          "data": {
            "text/plain": [
              "array([49.10016934])"
            ]
          },
          "metadata": {
            "tags": []
          },
          "execution_count": 221
        }
      ]
    },
    {
      "cell_type": "markdown",
      "metadata": {
        "id": "t6ahvtSr_GCV",
        "colab_type": "text"
      },
      "source": [
        "## Logistic regression: Titanic survivelance"
      ]
    },
    {
      "cell_type": "markdown",
      "metadata": {
        "id": "8_dkz86tp0zy",
        "colab_type": "text"
      },
      "source": [
        "**1. Read data**"
      ]
    },
    {
      "cell_type": "code",
      "metadata": {
        "id": "N2PSHaa7pzsM",
        "colab_type": "code",
        "colab": {}
      },
      "source": [
        "df_train = pd.read_csv('titanic_train.csv')\n",
        "df_test = pd.read_csv('titanic_test.csv')"
      ],
      "execution_count": 0,
      "outputs": []
    },
    {
      "cell_type": "code",
      "metadata": {
        "id": "AaHIpgNMsQus",
        "colab_type": "code",
        "outputId": "96c0f354-9904-4c7b-8ad6-c297b0681211",
        "colab": {
          "base_uri": "https://localhost:8080/",
          "height": 204
        }
      },
      "source": [
        "df_train.head()"
      ],
      "execution_count": 0,
      "outputs": [
        {
          "output_type": "execute_result",
          "data": {
            "text/html": [
              "<div>\n",
              "<style scoped>\n",
              "    .dataframe tbody tr th:only-of-type {\n",
              "        vertical-align: middle;\n",
              "    }\n",
              "\n",
              "    .dataframe tbody tr th {\n",
              "        vertical-align: top;\n",
              "    }\n",
              "\n",
              "    .dataframe thead th {\n",
              "        text-align: right;\n",
              "    }\n",
              "</style>\n",
              "<table border=\"1\" class=\"dataframe\">\n",
              "  <thead>\n",
              "    <tr style=\"text-align: right;\">\n",
              "      <th></th>\n",
              "      <th>PassengerId</th>\n",
              "      <th>Survived</th>\n",
              "      <th>Pclass</th>\n",
              "      <th>Name</th>\n",
              "      <th>Sex</th>\n",
              "      <th>Age</th>\n",
              "      <th>SibSp</th>\n",
              "      <th>Parch</th>\n",
              "      <th>Ticket</th>\n",
              "      <th>Fare</th>\n",
              "      <th>Cabin</th>\n",
              "      <th>Embarked</th>\n",
              "    </tr>\n",
              "  </thead>\n",
              "  <tbody>\n",
              "    <tr>\n",
              "      <th>0</th>\n",
              "      <td>1</td>\n",
              "      <td>0</td>\n",
              "      <td>3</td>\n",
              "      <td>Braund, Mr. Owen Harris</td>\n",
              "      <td>male</td>\n",
              "      <td>22.0</td>\n",
              "      <td>1</td>\n",
              "      <td>0</td>\n",
              "      <td>A/5 21171</td>\n",
              "      <td>7.2500</td>\n",
              "      <td>NaN</td>\n",
              "      <td>S</td>\n",
              "    </tr>\n",
              "    <tr>\n",
              "      <th>1</th>\n",
              "      <td>2</td>\n",
              "      <td>1</td>\n",
              "      <td>1</td>\n",
              "      <td>Cumings, Mrs. John Bradley (Florence Briggs Th...</td>\n",
              "      <td>female</td>\n",
              "      <td>38.0</td>\n",
              "      <td>1</td>\n",
              "      <td>0</td>\n",
              "      <td>PC 17599</td>\n",
              "      <td>71.2833</td>\n",
              "      <td>C85</td>\n",
              "      <td>C</td>\n",
              "    </tr>\n",
              "    <tr>\n",
              "      <th>2</th>\n",
              "      <td>3</td>\n",
              "      <td>1</td>\n",
              "      <td>3</td>\n",
              "      <td>Heikkinen, Miss. Laina</td>\n",
              "      <td>female</td>\n",
              "      <td>26.0</td>\n",
              "      <td>0</td>\n",
              "      <td>0</td>\n",
              "      <td>STON/O2. 3101282</td>\n",
              "      <td>7.9250</td>\n",
              "      <td>NaN</td>\n",
              "      <td>S</td>\n",
              "    </tr>\n",
              "    <tr>\n",
              "      <th>3</th>\n",
              "      <td>4</td>\n",
              "      <td>1</td>\n",
              "      <td>1</td>\n",
              "      <td>Futrelle, Mrs. Jacques Heath (Lily May Peel)</td>\n",
              "      <td>female</td>\n",
              "      <td>35.0</td>\n",
              "      <td>1</td>\n",
              "      <td>0</td>\n",
              "      <td>113803</td>\n",
              "      <td>53.1000</td>\n",
              "      <td>C123</td>\n",
              "      <td>S</td>\n",
              "    </tr>\n",
              "    <tr>\n",
              "      <th>4</th>\n",
              "      <td>5</td>\n",
              "      <td>0</td>\n",
              "      <td>3</td>\n",
              "      <td>Allen, Mr. William Henry</td>\n",
              "      <td>male</td>\n",
              "      <td>35.0</td>\n",
              "      <td>0</td>\n",
              "      <td>0</td>\n",
              "      <td>373450</td>\n",
              "      <td>8.0500</td>\n",
              "      <td>NaN</td>\n",
              "      <td>S</td>\n",
              "    </tr>\n",
              "  </tbody>\n",
              "</table>\n",
              "</div>"
            ],
            "text/plain": [
              "   PassengerId  Survived  Pclass  ...     Fare Cabin  Embarked\n",
              "0            1         0       3  ...   7.2500   NaN         S\n",
              "1            2         1       1  ...  71.2833   C85         C\n",
              "2            3         1       3  ...   7.9250   NaN         S\n",
              "3            4         1       1  ...  53.1000  C123         S\n",
              "4            5         0       3  ...   8.0500   NaN         S\n",
              "\n",
              "[5 rows x 12 columns]"
            ]
          },
          "metadata": {
            "tags": []
          },
          "execution_count": 28
        }
      ]
    },
    {
      "cell_type": "code",
      "metadata": {
        "id": "CrtfZDA_sUXD",
        "colab_type": "code",
        "outputId": "3042727c-96e3-4292-ff1f-ec894ff5acd6",
        "colab": {
          "base_uri": "https://localhost:8080/",
          "height": 34
        }
      },
      "source": [
        "len(df_train) # number of rows, i.e passengers in train set"
      ],
      "execution_count": 0,
      "outputs": [
        {
          "output_type": "execute_result",
          "data": {
            "text/plain": [
              "891"
            ]
          },
          "metadata": {
            "tags": []
          },
          "execution_count": 29
        }
      ]
    },
    {
      "cell_type": "markdown",
      "metadata": {
        "id": "BNqFKv4-uMmV",
        "colab_type": "text"
      },
      "source": [
        "**2. Preprocessing data**"
      ]
    },
    {
      "cell_type": "code",
      "metadata": {
        "id": "uqpZrjDXtMVs",
        "colab_type": "code",
        "outputId": "c1a6a73b-b73f-4dcb-bc50-c228331ab9b4",
        "colab": {
          "base_uri": "https://localhost:8080/",
          "height": 238
        }
      },
      "source": [
        "df_train.isnull().sum()"
      ],
      "execution_count": 0,
      "outputs": [
        {
          "output_type": "execute_result",
          "data": {
            "text/plain": [
              "PassengerId      0\n",
              "Survived         0\n",
              "Pclass           0\n",
              "Name             0\n",
              "Sex              0\n",
              "Age            177\n",
              "SibSp            0\n",
              "Parch            0\n",
              "Ticket           0\n",
              "Fare             0\n",
              "Cabin          687\n",
              "Embarked         2\n",
              "dtype: int64"
            ]
          },
          "metadata": {
            "tags": []
          },
          "execution_count": 30
        }
      ]
    },
    {
      "cell_type": "code",
      "metadata": {
        "id": "oa-PGQ0i3eJO",
        "colab_type": "code",
        "colab": {}
      },
      "source": [
        "df_train.drop('PassengerId', axis=1, inplace=True)\n",
        "df_train.drop('Cabin', axis=1, inplace=True)\n",
        "df_train.drop('Name', axis=1, inplace=True)\n",
        "df_train.drop('Embarked', axis=1, inplace=True)\n",
        "df_train.drop('Ticket', axis=1, inplace=True)\n",
        "df_train.drop('Parch', axis=1, inplace=True)\n",
        "df_train.drop('Fare', axis=1, inplace=True)"
      ],
      "execution_count": 0,
      "outputs": []
    },
    {
      "cell_type": "code",
      "metadata": {
        "id": "u04Z_hSJo7mc",
        "colab_type": "code",
        "outputId": "cd6cedae-15ba-412f-ddf4-15afad51090a",
        "colab": {
          "base_uri": "https://localhost:8080/",
          "height": 119
        }
      },
      "source": [
        "df_train.isnull().sum()"
      ],
      "execution_count": 0,
      "outputs": [
        {
          "output_type": "execute_result",
          "data": {
            "text/plain": [
              "Survived      0\n",
              "Pclass        0\n",
              "Sex           0\n",
              "Age         177\n",
              "SibSp         0\n",
              "dtype: int64"
            ]
          },
          "metadata": {
            "tags": []
          },
          "execution_count": 32
        }
      ]
    },
    {
      "cell_type": "code",
      "metadata": {
        "id": "pqOX-oJW3mJE",
        "colab_type": "code",
        "outputId": "f01b5a85-2959-4b37-fad6-393467bea23a",
        "colab": {
          "base_uri": "https://localhost:8080/",
          "height": 204
        }
      },
      "source": [
        "df_train = pd.get_dummies(df_train, columns=[\"Pclass\", \"Sex\"])\n",
        "df_train.head()"
      ],
      "execution_count": 0,
      "outputs": [
        {
          "output_type": "execute_result",
          "data": {
            "text/html": [
              "<div>\n",
              "<style scoped>\n",
              "    .dataframe tbody tr th:only-of-type {\n",
              "        vertical-align: middle;\n",
              "    }\n",
              "\n",
              "    .dataframe tbody tr th {\n",
              "        vertical-align: top;\n",
              "    }\n",
              "\n",
              "    .dataframe thead th {\n",
              "        text-align: right;\n",
              "    }\n",
              "</style>\n",
              "<table border=\"1\" class=\"dataframe\">\n",
              "  <thead>\n",
              "    <tr style=\"text-align: right;\">\n",
              "      <th></th>\n",
              "      <th>Survived</th>\n",
              "      <th>Age</th>\n",
              "      <th>SibSp</th>\n",
              "      <th>Pclass_1</th>\n",
              "      <th>Pclass_2</th>\n",
              "      <th>Pclass_3</th>\n",
              "      <th>Sex_female</th>\n",
              "      <th>Sex_male</th>\n",
              "    </tr>\n",
              "  </thead>\n",
              "  <tbody>\n",
              "    <tr>\n",
              "      <th>0</th>\n",
              "      <td>0</td>\n",
              "      <td>22.0</td>\n",
              "      <td>1</td>\n",
              "      <td>0</td>\n",
              "      <td>0</td>\n",
              "      <td>1</td>\n",
              "      <td>0</td>\n",
              "      <td>1</td>\n",
              "    </tr>\n",
              "    <tr>\n",
              "      <th>1</th>\n",
              "      <td>1</td>\n",
              "      <td>38.0</td>\n",
              "      <td>1</td>\n",
              "      <td>1</td>\n",
              "      <td>0</td>\n",
              "      <td>0</td>\n",
              "      <td>1</td>\n",
              "      <td>0</td>\n",
              "    </tr>\n",
              "    <tr>\n",
              "      <th>2</th>\n",
              "      <td>1</td>\n",
              "      <td>26.0</td>\n",
              "      <td>0</td>\n",
              "      <td>0</td>\n",
              "      <td>0</td>\n",
              "      <td>1</td>\n",
              "      <td>1</td>\n",
              "      <td>0</td>\n",
              "    </tr>\n",
              "    <tr>\n",
              "      <th>3</th>\n",
              "      <td>1</td>\n",
              "      <td>35.0</td>\n",
              "      <td>1</td>\n",
              "      <td>1</td>\n",
              "      <td>0</td>\n",
              "      <td>0</td>\n",
              "      <td>1</td>\n",
              "      <td>0</td>\n",
              "    </tr>\n",
              "    <tr>\n",
              "      <th>4</th>\n",
              "      <td>0</td>\n",
              "      <td>35.0</td>\n",
              "      <td>0</td>\n",
              "      <td>0</td>\n",
              "      <td>0</td>\n",
              "      <td>1</td>\n",
              "      <td>0</td>\n",
              "      <td>1</td>\n",
              "    </tr>\n",
              "  </tbody>\n",
              "</table>\n",
              "</div>"
            ],
            "text/plain": [
              "   Survived   Age  SibSp  Pclass_1  Pclass_2  Pclass_3  Sex_female  Sex_male\n",
              "0         0  22.0      1         0         0         1           0         1\n",
              "1         1  38.0      1         1         0         0           1         0\n",
              "2         1  26.0      0         0         0         1           1         0\n",
              "3         1  35.0      1         1         0         0           1         0\n",
              "4         0  35.0      0         0         0         1           0         1"
            ]
          },
          "metadata": {
            "tags": []
          },
          "execution_count": 47
        }
      ]
    },
    {
      "cell_type": "code",
      "metadata": {
        "id": "A4aVcd84H6_o",
        "colab_type": "code",
        "colab": {}
      },
      "source": [
        "df_test = pd.get_dummies(df_test, columns=[\"Pclass\", \"Sex\"])"
      ],
      "execution_count": 0,
      "outputs": []
    },
    {
      "cell_type": "code",
      "metadata": {
        "id": "2Q2uPGurvk4j",
        "colab_type": "code",
        "outputId": "c78db762-ceb3-4c04-db42-719a308b4485",
        "colab": {
          "base_uri": "https://localhost:8080/",
          "height": 34
        }
      },
      "source": [
        "df_train[\"Age\"].mean(skipna=True)"
      ],
      "execution_count": 0,
      "outputs": [
        {
          "output_type": "execute_result",
          "data": {
            "text/plain": [
              "29.69911764705882"
            ]
          },
          "metadata": {
            "tags": []
          },
          "execution_count": 49
        }
      ]
    },
    {
      "cell_type": "code",
      "metadata": {
        "id": "iaMKvUcMvijL",
        "colab_type": "code",
        "outputId": "a0b3652e-d74a-4bbe-81db-e0cadf6b4954",
        "colab": {
          "base_uri": "https://localhost:8080/",
          "height": 34
        }
      },
      "source": [
        "df_train[\"Age\"].median(skipna=True)"
      ],
      "execution_count": 0,
      "outputs": [
        {
          "output_type": "execute_result",
          "data": {
            "text/plain": [
              "28.0"
            ]
          },
          "metadata": {
            "tags": []
          },
          "execution_count": 50
        }
      ]
    },
    {
      "cell_type": "code",
      "metadata": {
        "id": "9ZcYLrTbwFVz",
        "colab_type": "code",
        "colab": {}
      },
      "source": [
        "cdf_data = df_train.copy()\n",
        "cdf_data[\"Age\"].fillna(df_train[\"Age\"].median(skipna=True), inplace=True) # Fill NA/NaN values using the specified method"
      ],
      "execution_count": 0,
      "outputs": []
    },
    {
      "cell_type": "code",
      "metadata": {
        "id": "frnSWK3NILXg",
        "colab_type": "code",
        "colab": {}
      },
      "source": [
        "cdf_test = df_test.copy()\n",
        "cdf_test[\"Age\"].fillna(df_test[\"Age\"].median(skipna=True), inplace=True) # Fill NA/NaN values using the specified method"
      ],
      "execution_count": 0,
      "outputs": []
    },
    {
      "cell_type": "code",
      "metadata": {
        "id": "nfz9VZeB8Gr3",
        "colab_type": "code",
        "outputId": "3d9aa9b9-8e1b-4440-94c9-76f33a165b54",
        "colab": {
          "base_uri": "https://localhost:8080/",
          "height": 119
        }
      },
      "source": [
        "cdf_data.isnull().sum()"
      ],
      "execution_count": 0,
      "outputs": [
        {
          "output_type": "execute_result",
          "data": {
            "text/plain": [
              "Survived    0\n",
              "Pclass      0\n",
              "Sex         0\n",
              "Age         0\n",
              "SibSp       0\n",
              "dtype: int64"
            ]
          },
          "metadata": {
            "tags": []
          },
          "execution_count": 37
        }
      ]
    },
    {
      "cell_type": "code",
      "metadata": {
        "id": "ufRokSEPGuMB",
        "colab_type": "code",
        "outputId": "b88a28a5-4021-400a-9a8d-30044fdd415b",
        "colab": {
          "base_uri": "https://localhost:8080/",
          "height": 204
        }
      },
      "source": [
        "cdf_data.head()"
      ],
      "execution_count": 0,
      "outputs": [
        {
          "output_type": "execute_result",
          "data": {
            "text/html": [
              "<div>\n",
              "<style scoped>\n",
              "    .dataframe tbody tr th:only-of-type {\n",
              "        vertical-align: middle;\n",
              "    }\n",
              "\n",
              "    .dataframe tbody tr th {\n",
              "        vertical-align: top;\n",
              "    }\n",
              "\n",
              "    .dataframe thead th {\n",
              "        text-align: right;\n",
              "    }\n",
              "</style>\n",
              "<table border=\"1\" class=\"dataframe\">\n",
              "  <thead>\n",
              "    <tr style=\"text-align: right;\">\n",
              "      <th></th>\n",
              "      <th>Survived</th>\n",
              "      <th>Age</th>\n",
              "      <th>SibSp</th>\n",
              "      <th>Pclass_1</th>\n",
              "      <th>Pclass_2</th>\n",
              "      <th>Pclass_3</th>\n",
              "      <th>Sex_female</th>\n",
              "      <th>Sex_male</th>\n",
              "    </tr>\n",
              "  </thead>\n",
              "  <tbody>\n",
              "    <tr>\n",
              "      <th>0</th>\n",
              "      <td>0</td>\n",
              "      <td>22.0</td>\n",
              "      <td>1</td>\n",
              "      <td>0</td>\n",
              "      <td>0</td>\n",
              "      <td>1</td>\n",
              "      <td>0</td>\n",
              "      <td>1</td>\n",
              "    </tr>\n",
              "    <tr>\n",
              "      <th>1</th>\n",
              "      <td>1</td>\n",
              "      <td>38.0</td>\n",
              "      <td>1</td>\n",
              "      <td>1</td>\n",
              "      <td>0</td>\n",
              "      <td>0</td>\n",
              "      <td>1</td>\n",
              "      <td>0</td>\n",
              "    </tr>\n",
              "    <tr>\n",
              "      <th>2</th>\n",
              "      <td>1</td>\n",
              "      <td>26.0</td>\n",
              "      <td>0</td>\n",
              "      <td>0</td>\n",
              "      <td>0</td>\n",
              "      <td>1</td>\n",
              "      <td>1</td>\n",
              "      <td>0</td>\n",
              "    </tr>\n",
              "    <tr>\n",
              "      <th>3</th>\n",
              "      <td>1</td>\n",
              "      <td>35.0</td>\n",
              "      <td>1</td>\n",
              "      <td>1</td>\n",
              "      <td>0</td>\n",
              "      <td>0</td>\n",
              "      <td>1</td>\n",
              "      <td>0</td>\n",
              "    </tr>\n",
              "    <tr>\n",
              "      <th>4</th>\n",
              "      <td>0</td>\n",
              "      <td>35.0</td>\n",
              "      <td>0</td>\n",
              "      <td>0</td>\n",
              "      <td>0</td>\n",
              "      <td>1</td>\n",
              "      <td>0</td>\n",
              "      <td>1</td>\n",
              "    </tr>\n",
              "  </tbody>\n",
              "</table>\n",
              "</div>"
            ],
            "text/plain": [
              "   Survived   Age  SibSp  Pclass_1  Pclass_2  Pclass_3  Sex_female  Sex_male\n",
              "0         0  22.0      1         0         0         1           0         1\n",
              "1         1  38.0      1         1         0         0           1         0\n",
              "2         1  26.0      0         0         0         1           1         0\n",
              "3         1  35.0      1         1         0         0           1         0\n",
              "4         0  35.0      0         0         0         1           0         1"
            ]
          },
          "metadata": {
            "tags": []
          },
          "execution_count": 53
        }
      ]
    },
    {
      "cell_type": "code",
      "metadata": {
        "id": "G3sA-o4t4ky8",
        "colab_type": "code",
        "colab": {}
      },
      "source": [
        "X_train = cdf_data.iloc[:, 1:].values\n",
        "Y_train = cdf_data.iloc[:, 0].values\n",
        "\n",
        "X_test = cdf_test.iloc[:, :].values\n",
        "Y_test = cdf_test.iloc[:, 0].values"
      ],
      "execution_count": 0,
      "outputs": []
    },
    {
      "cell_type": "code",
      "metadata": {
        "id": "MpSBHJqxG2K3",
        "colab_type": "code",
        "outputId": "42741464-f75b-469c-a515-ff80363901ae",
        "colab": {
          "base_uri": "https://localhost:8080/",
          "height": 34
        }
      },
      "source": [
        "X_train[2]"
      ],
      "execution_count": 0,
      "outputs": [
        {
          "output_type": "execute_result",
          "data": {
            "text/plain": [
              "array([26.,  0.,  0.,  0.,  1.,  1.,  0.])"
            ]
          },
          "metadata": {
            "tags": []
          },
          "execution_count": 55
        }
      ]
    },
    {
      "cell_type": "markdown",
      "metadata": {
        "id": "glGLZsLl97Nk",
        "colab_type": "text"
      },
      "source": [
        "**3. Data exploration**"
      ]
    },
    {
      "cell_type": "code",
      "metadata": {
        "id": "NtCukfJbBWoj",
        "colab_type": "code",
        "colab": {}
      },
      "source": [
        "df_exp = pd.read_csv('titanic_train.csv')\n",
        "# To be continued"
      ],
      "execution_count": 0,
      "outputs": []
    },
    {
      "cell_type": "markdown",
      "metadata": {
        "id": "a32auCAK9-as",
        "colab_type": "text"
      },
      "source": [
        "**4. Model**"
      ]
    },
    {
      "cell_type": "code",
      "metadata": {
        "id": "aC9wvVvV-Ax2",
        "colab_type": "code",
        "outputId": "f3cff3e7-cc7d-4bb2-84a6-40b97763e697",
        "colab": {
          "base_uri": "https://localhost:8080/",
          "height": 51
        }
      },
      "source": [
        "from sklearn.linear_model import LogisticRegression\n",
        "from sklearn.feature_selection import RFE\n",
        "\n",
        "model = LogisticRegression().fit(X_train, Y_train)"
      ],
      "execution_count": 0,
      "outputs": [
        {
          "output_type": "stream",
          "text": [
            "/usr/local/lib/python3.6/dist-packages/sklearn/linear_model/logistic.py:432: FutureWarning: Default solver will be changed to 'lbfgs' in 0.22. Specify a solver to silence this warning.\n",
            "  FutureWarning)\n"
          ],
          "name": "stderr"
        }
      ]
    },
    {
      "cell_type": "markdown",
      "metadata": {
        "id": "9bMETCwUJXwo",
        "colab_type": "text"
      },
      "source": [
        "**5. Prediction for YOU**"
      ]
    },
    {
      "cell_type": "code",
      "metadata": {
        "id": "Ry4tRpeVFMGZ",
        "colab_type": "code",
        "outputId": "80da9cc9-9214-43fb-ba77-d6915c356eb7",
        "colab": {
          "base_uri": "https://localhost:8080/",
          "height": 34
        }
      },
      "source": [
        "answer = model.predict([[25.0, 0, 0, 0, 1, 0, 1]])\n",
        "\n",
        "if answer[0] == 1:\n",
        "  print(\"Survived\")\n",
        "else:\n",
        "  print(\"Did not survive...\")"
      ],
      "execution_count": 0,
      "outputs": [
        {
          "output_type": "stream",
          "text": [
            "Did not survive...\n"
          ],
          "name": "stdout"
        }
      ]
    },
    {
      "cell_type": "markdown",
      "metadata": {
        "id": "u6Reh6VbJ7xo",
        "colab_type": "text"
      },
      "source": [
        "![alt text](https://i.gifer.com/B4yq.gif)"
      ]
    },
    {
      "cell_type": "code",
      "metadata": {
        "id": "nZNJKA1YIuPf",
        "colab_type": "code",
        "outputId": "9b02e23d-453f-4515-a072-fe323b9a3736",
        "colab": {
          "base_uri": "https://localhost:8080/",
          "height": 340
        }
      },
      "source": [
        "model.predict(X_test)"
      ],
      "execution_count": 0,
      "outputs": [
        {
          "output_type": "execute_result",
          "data": {
            "text/plain": [
              "array([0, 0, 0, 0, 1, 0, 1, 0, 1, 0, 0, 0, 1, 0, 1, 1, 0, 0, 1, 0, 0, 0,\n",
              "       1, 1, 1, 0, 1, 0, 0, 0, 0, 0, 0, 1, 0, 0, 1, 1, 0, 0, 0, 1, 0, 1,\n",
              "       1, 0, 0, 0, 1, 1, 0, 0, 1, 1, 0, 0, 0, 0, 0, 1, 0, 0, 0, 1, 0, 1,\n",
              "       1, 0, 0, 1, 1, 0, 1, 1, 1, 0, 0, 1, 0, 1, 0, 0, 0, 0, 0, 0, 1, 1,\n",
              "       1, 0, 1, 0, 1, 0, 1, 0, 1, 0, 1, 0, 1, 0, 0, 0, 1, 0, 0, 0, 0, 0,\n",
              "       0, 1, 1, 1, 1, 0, 0, 1, 0, 1, 1, 0, 1, 0, 0, 1, 0, 0, 0, 0, 0, 0,\n",
              "       1, 0, 0, 0, 0, 0, 1, 0, 0, 1, 0, 0, 0, 0, 1, 0, 1, 0, 1, 0, 0, 1,\n",
              "       0, 0, 1, 1, 0, 1, 1, 0, 1, 0, 0, 1, 0, 0, 1, 1, 0, 0, 0, 0, 0, 1,\n",
              "       1, 0, 1, 1, 0, 0, 1, 0, 1, 0, 1, 0, 0, 0, 0, 1, 0, 0, 0, 0, 1, 1,\n",
              "       0, 1, 1, 0, 0, 1, 0, 1, 1, 0, 1, 0, 0, 0, 0, 1, 0, 0, 1, 0, 1, 0,\n",
              "       1, 0, 1, 0, 1, 1, 0, 1, 0, 0, 0, 1, 0, 0, 0, 0, 0, 0, 1, 1, 1, 1,\n",
              "       0, 0, 0, 0, 1, 0, 1, 1, 1, 0, 0, 0, 0, 0, 0, 0, 1, 0, 0, 0, 1, 1,\n",
              "       0, 0, 1, 0, 1, 0, 0, 0, 1, 1, 0, 1, 0, 0, 0, 0, 1, 0, 1, 1, 1, 0,\n",
              "       0, 0, 0, 0, 1, 1, 0, 0, 0, 0, 1, 0, 1, 0, 0, 0, 0, 0, 1, 1, 0, 0,\n",
              "       0, 0, 0, 0, 0, 1, 1, 1, 0, 0, 0, 0, 0, 0, 0, 0, 1, 0, 1, 0, 0, 0,\n",
              "       1, 0, 0, 1, 0, 1, 0, 0, 0, 0, 0, 0, 0, 1, 0, 1, 0, 1, 0, 1, 1, 0,\n",
              "       0, 0, 1, 0, 1, 0, 0, 1, 0, 1, 1, 0, 1, 1, 0, 1, 1, 0, 0, 1, 0, 0,\n",
              "       1, 1, 1, 0, 0, 0, 0, 0, 1, 1, 0, 1, 0, 0, 0, 0, 1, 1, 0, 0, 0, 1,\n",
              "       0, 1, 0, 0, 1, 0, 1, 1, 0, 0, 0, 0, 1, 1, 1, 1, 1, 0, 1, 0, 0, 0])"
            ]
          },
          "metadata": {
            "tags": []
          },
          "execution_count": 337
        }
      ]
    },
    {
      "cell_type": "code",
      "metadata": {
        "id": "ZY1_8BleLVvp",
        "colab_type": "code",
        "outputId": "386cd1aa-7c43-4799-ac39-39e2de918e27",
        "colab": {
          "base_uri": "https://localhost:8080/",
          "height": 34
        }
      },
      "source": [
        "model.decision_function([[55.0, 0, 0, 0, 1, 0, 1]])"
      ],
      "execution_count": 0,
      "outputs": [
        {
          "output_type": "execute_result",
          "data": {
            "text/plain": [
              "array([-3.14653547])"
            ]
          },
          "metadata": {
            "tags": []
          },
          "execution_count": 344
        }
      ]
    },
    {
      "cell_type": "markdown",
      "metadata": {
        "id": "r_nzYcZGLpoY",
        "colab_type": "text"
      },
      "source": [
        "**6. Model accuracy (i.e. % of properly classified examples)**"
      ]
    },
    {
      "cell_type": "code",
      "metadata": {
        "id": "rGs2FSewFbew",
        "colab_type": "code",
        "outputId": "1fff940d-d4d0-4e36-a802-817ce25db784",
        "colab": {
          "base_uri": "https://localhost:8080/",
          "height": 34
        }
      },
      "source": [
        "model.score(X_train, Y_train) # here should be test data, but we don't have true Y_test, only predicted"
      ],
      "execution_count": 0,
      "outputs": [
        {
          "output_type": "execute_result",
          "data": {
            "text/plain": [
              "0.7867564534231201"
            ]
          },
          "metadata": {
            "tags": []
          },
          "execution_count": 342
        }
      ]
    },
    {
      "cell_type": "code",
      "metadata": {
        "id": "ovxihN-LBAkc",
        "colab_type": "code",
        "colab": {}
      },
      "source": [
        "print(\"Accuracy: \", (lr == y_test).mean())"
      ],
      "execution_count": 0,
      "outputs": []
    },
    {
      "cell_type": "markdown",
      "metadata": {
        "id": "nLsJ5y9Z_bhN",
        "colab_type": "text"
      },
      "source": [
        "## SVM for faces"
      ]
    },
    {
      "cell_type": "code",
      "metadata": {
        "id": "Ct-l0qcVevf3",
        "colab_type": "code",
        "outputId": "2c240703-e58f-47ab-c18b-83baa1e68c6a",
        "colab": {
          "base_uri": "https://localhost:8080/",
          "height": 360
        }
      },
      "source": [
        "! pip install face_recognition\n",
        "! pip3 install opencv-python"
      ],
      "execution_count": 2,
      "outputs": [
        {
          "output_type": "stream",
          "text": [
            "Collecting face_recognition\n",
            "  Downloading https://files.pythonhosted.org/packages/3f/ed/ad9a28042f373d4633fc8b49109b623597d6f193d3bbbef7780a5ee8eef2/face_recognition-1.2.3-py2.py3-none-any.whl\n",
            "Requirement already satisfied: dlib>=19.7 in /usr/local/lib/python3.6/dist-packages (from face_recognition) (19.18.0)\n",
            "Requirement already satisfied: Click>=6.0 in /usr/local/lib/python3.6/dist-packages (from face_recognition) (7.0)\n",
            "Collecting face-recognition-models>=0.3.0\n",
            "\u001b[?25l  Downloading https://files.pythonhosted.org/packages/cf/3b/4fd8c534f6c0d1b80ce0973d01331525538045084c73c153ee6df20224cf/face_recognition_models-0.3.0.tar.gz (100.1MB)\n",
            "\u001b[K     |████████████████████████████████| 100.2MB 104kB/s \n",
            "\u001b[?25hRequirement already satisfied: Pillow in /usr/local/lib/python3.6/dist-packages (from face_recognition) (4.3.0)\n",
            "Requirement already satisfied: numpy in /usr/local/lib/python3.6/dist-packages (from face_recognition) (1.17.4)\n",
            "Requirement already satisfied: olefile in /usr/local/lib/python3.6/dist-packages (from Pillow->face_recognition) (0.46)\n",
            "Building wheels for collected packages: face-recognition-models\n",
            "  Building wheel for face-recognition-models (setup.py) ... \u001b[?25l\u001b[?25hdone\n",
            "  Created wheel for face-recognition-models: filename=face_recognition_models-0.3.0-py2.py3-none-any.whl size=100566176 sha256=bba2c1fb028830e3d8571d6e4c7ebbb117fc3cd0fa4107f0aa22e73ced247987\n",
            "  Stored in directory: /root/.cache/pip/wheels/d2/99/18/59c6c8f01e39810415c0e63f5bede7d83dfb0ffc039865465f\n",
            "Successfully built face-recognition-models\n",
            "Installing collected packages: face-recognition-models, face-recognition\n",
            "Successfully installed face-recognition-1.2.3 face-recognition-models-0.3.0\n",
            "Requirement already satisfied: opencv-python in /usr/local/lib/python3.6/dist-packages (4.1.2.30)\n",
            "Requirement already satisfied: numpy>=1.11.3 in /usr/local/lib/python3.6/dist-packages (from opencv-python) (1.17.4)\n"
          ],
          "name": "stdout"
        }
      ]
    },
    {
      "cell_type": "code",
      "metadata": {
        "id": "y2h2bwvxkFsE",
        "colab_type": "code",
        "outputId": "57ff99cb-e785-4365-c1e4-ca1e8db029d5",
        "colab": {
          "base_uri": "https://localhost:8080/",
          "height": 68
        }
      },
      "source": [
        "! unzip Kirpichnikov_photo.zip"
      ],
      "execution_count": 6,
      "outputs": [
        {
          "output_type": "stream",
          "text": [
            "Archive:  Kirpichnikov_photo.zip\n",
            "replace Kirpichnikov_photo.jpg? [y]es, [n]o, [A]ll, [N]one, [r]ename: A\n",
            "  inflating: Kirpichnikov_photo.jpg  \n"
          ],
          "name": "stdout"
        }
      ]
    },
    {
      "cell_type": "code",
      "metadata": {
        "id": "7BJw0CShg9K4",
        "colab_type": "code",
        "colab": {}
      },
      "source": [
        "import face_recognition\n",
        "import cv2\n",
        "import os\n",
        "from sklearn import svm"
      ],
      "execution_count": 0,
      "outputs": []
    },
    {
      "cell_type": "code",
      "metadata": {
        "id": "i7iZCR3TjckY",
        "colab_type": "code",
        "colab": {
          "base_uri": "https://localhost:8080/",
          "height": 231
        },
        "outputId": "895a5c32-bee0-4623-f4df-3378ab225b2d"
      },
      "source": [
        "encodings = []\n",
        "names = []\n",
        "\n",
        "train_dir = os.listdir('faces/')\n",
        "\n",
        "for person in train_dir:\n",
        "    pix = os.listdir(\"faces/\" + person)\n",
        "    for person_img in pix:\n",
        "        face = face_recognition.load_image_file(\"faces/\" + person + \"/\" + person_img)\n",
        "        face_bounding_boxes = face_recognition.face_locations(face)\n",
        "\n",
        "        if len(face_bounding_boxes) != 1:\n",
        "            print(person + \"/\" + person_img + \" contains none or more than one faces and can't be used for training.\")\n",
        "            exit()\n",
        "        else:\n",
        "            face_enc = face_recognition.face_encodings(face)[0]\n",
        "            encodings.append(face_enc)\n",
        "            names.append(person)"
      ],
      "execution_count": 5,
      "outputs": [
        {
          "output_type": "error",
          "ename": "FileNotFoundError",
          "evalue": "ignored",
          "traceback": [
            "\u001b[0;31m---------------------------------------------------------------------------\u001b[0m",
            "\u001b[0;31mFileNotFoundError\u001b[0m                         Traceback (most recent call last)",
            "\u001b[0;32m<ipython-input-5-1fc97185f920>\u001b[0m in \u001b[0;36m<module>\u001b[0;34m()\u001b[0m\n\u001b[1;32m      2\u001b[0m \u001b[0mnames\u001b[0m \u001b[0;34m=\u001b[0m \u001b[0;34m[\u001b[0m\u001b[0;34m]\u001b[0m\u001b[0;34m\u001b[0m\u001b[0;34m\u001b[0m\u001b[0m\n\u001b[1;32m      3\u001b[0m \u001b[0;34m\u001b[0m\u001b[0m\n\u001b[0;32m----> 4\u001b[0;31m \u001b[0mtrain_dir\u001b[0m \u001b[0;34m=\u001b[0m \u001b[0mos\u001b[0m\u001b[0;34m.\u001b[0m\u001b[0mlistdir\u001b[0m\u001b[0;34m(\u001b[0m\u001b[0;34m'faces/'\u001b[0m\u001b[0;34m)\u001b[0m\u001b[0;34m\u001b[0m\u001b[0;34m\u001b[0m\u001b[0m\n\u001b[0m\u001b[1;32m      5\u001b[0m \u001b[0;34m\u001b[0m\u001b[0m\n\u001b[1;32m      6\u001b[0m \u001b[0;32mfor\u001b[0m \u001b[0mperson\u001b[0m \u001b[0;32min\u001b[0m \u001b[0mtrain_dir\u001b[0m\u001b[0;34m:\u001b[0m\u001b[0;34m\u001b[0m\u001b[0;34m\u001b[0m\u001b[0m\n",
            "\u001b[0;31mFileNotFoundError\u001b[0m: [Errno 2] No such file or directory: 'faces/'"
          ]
        }
      ]
    },
    {
      "cell_type": "code",
      "metadata": {
        "id": "8m0M1LvcqrQj",
        "colab_type": "code",
        "outputId": "6fec54d3-fe64-4611-c14c-1afbd97c4446",
        "colab": {
          "base_uri": "https://localhost:8080/",
          "height": 34
        }
      },
      "source": [
        "encodings"
      ],
      "execution_count": 0,
      "outputs": [
        {
          "output_type": "execute_result",
          "data": {
            "text/plain": [
              "[]"
            ]
          },
          "metadata": {
            "tags": []
          },
          "execution_count": 88
        }
      ]
    },
    {
      "cell_type": "code",
      "metadata": {
        "id": "n6Zk-7dMqsEQ",
        "colab_type": "code",
        "outputId": "71a61474-253d-4e62-ac12-b0978cfb1820",
        "colab": {
          "base_uri": "https://localhost:8080/",
          "height": 34
        }
      },
      "source": [
        "names"
      ],
      "execution_count": 0,
      "outputs": [
        {
          "output_type": "execute_result",
          "data": {
            "text/plain": [
              "[]"
            ]
          },
          "metadata": {
            "tags": []
          },
          "execution_count": 89
        }
      ]
    },
    {
      "cell_type": "code",
      "metadata": {
        "id": "eccoMkYAm3PE",
        "colab_type": "code",
        "outputId": "3504e25c-545c-4400-d2a6-64476accbed8",
        "colab": {
          "base_uri": "https://localhost:8080/",
          "height": 428
        }
      },
      "source": [
        "clf = svm.SVC(gamma='scale')\n",
        "clf.fit(encodings, names)\n",
        "\n",
        "test_image = face_recognition.load_image_file('Kirpichnikov_photo.jpg')\n",
        "face_locations = face_recognition.face_locations(test_image)\n",
        "print(\"Number of faces: \", len(face_locations))\n",
        "\n",
        "for i in range(no):\n",
        "    test_image_enc = face_recognition.face_encodings(test_image)[i]\n",
        "    name = clf.predict([test_image_enc])\n",
        "    print(name)"
      ],
      "execution_count": 8,
      "outputs": [
        {
          "output_type": "error",
          "ename": "ValueError",
          "evalue": "ignored",
          "traceback": [
            "\u001b[0;31m---------------------------------------------------------------------------\u001b[0m",
            "\u001b[0;31mValueError\u001b[0m                                Traceback (most recent call last)",
            "\u001b[0;32m<ipython-input-8-62c649027fe6>\u001b[0m in \u001b[0;36m<module>\u001b[0;34m()\u001b[0m\n\u001b[1;32m      1\u001b[0m \u001b[0mclf\u001b[0m \u001b[0;34m=\u001b[0m \u001b[0msvm\u001b[0m\u001b[0;34m.\u001b[0m\u001b[0mSVC\u001b[0m\u001b[0;34m(\u001b[0m\u001b[0mgamma\u001b[0m\u001b[0;34m=\u001b[0m\u001b[0;34m'scale'\u001b[0m\u001b[0;34m)\u001b[0m\u001b[0;34m\u001b[0m\u001b[0;34m\u001b[0m\u001b[0m\n\u001b[0;32m----> 2\u001b[0;31m \u001b[0mclf\u001b[0m\u001b[0;34m.\u001b[0m\u001b[0mfit\u001b[0m\u001b[0;34m(\u001b[0m\u001b[0mencodings\u001b[0m\u001b[0;34m,\u001b[0m \u001b[0mnames\u001b[0m\u001b[0;34m)\u001b[0m\u001b[0;34m\u001b[0m\u001b[0;34m\u001b[0m\u001b[0m\n\u001b[0m\u001b[1;32m      3\u001b[0m \u001b[0;34m\u001b[0m\u001b[0m\n\u001b[1;32m      4\u001b[0m \u001b[0mtest_image\u001b[0m \u001b[0;34m=\u001b[0m \u001b[0mface_recognition\u001b[0m\u001b[0;34m.\u001b[0m\u001b[0mload_image_file\u001b[0m\u001b[0;34m(\u001b[0m\u001b[0;34m'Kirpichnikov_photo.jpg'\u001b[0m\u001b[0;34m)\u001b[0m\u001b[0;34m\u001b[0m\u001b[0;34m\u001b[0m\u001b[0m\n\u001b[1;32m      5\u001b[0m \u001b[0mface_locations\u001b[0m \u001b[0;34m=\u001b[0m \u001b[0mface_recognition\u001b[0m\u001b[0;34m.\u001b[0m\u001b[0mface_locations\u001b[0m\u001b[0;34m(\u001b[0m\u001b[0mtest_image\u001b[0m\u001b[0;34m)\u001b[0m\u001b[0;34m\u001b[0m\u001b[0;34m\u001b[0m\u001b[0m\n",
            "\u001b[0;32m/usr/local/lib/python3.6/dist-packages/sklearn/svm/base.py\u001b[0m in \u001b[0;36mfit\u001b[0;34m(self, X, y, sample_weight)\u001b[0m\n\u001b[1;32m    144\u001b[0m         X, y = check_X_y(X, y, dtype=np.float64,\n\u001b[1;32m    145\u001b[0m                          \u001b[0morder\u001b[0m\u001b[0;34m=\u001b[0m\u001b[0;34m'C'\u001b[0m\u001b[0;34m,\u001b[0m \u001b[0maccept_sparse\u001b[0m\u001b[0;34m=\u001b[0m\u001b[0;34m'csr'\u001b[0m\u001b[0;34m,\u001b[0m\u001b[0;34m\u001b[0m\u001b[0;34m\u001b[0m\u001b[0m\n\u001b[0;32m--> 146\u001b[0;31m                          accept_large_sparse=False)\n\u001b[0m\u001b[1;32m    147\u001b[0m         \u001b[0my\u001b[0m \u001b[0;34m=\u001b[0m \u001b[0mself\u001b[0m\u001b[0;34m.\u001b[0m\u001b[0m_validate_targets\u001b[0m\u001b[0;34m(\u001b[0m\u001b[0my\u001b[0m\u001b[0;34m)\u001b[0m\u001b[0;34m\u001b[0m\u001b[0;34m\u001b[0m\u001b[0m\n\u001b[1;32m    148\u001b[0m \u001b[0;34m\u001b[0m\u001b[0m\n",
            "\u001b[0;32m/usr/local/lib/python3.6/dist-packages/sklearn/utils/validation.py\u001b[0m in \u001b[0;36mcheck_X_y\u001b[0;34m(X, y, accept_sparse, accept_large_sparse, dtype, order, copy, force_all_finite, ensure_2d, allow_nd, multi_output, ensure_min_samples, ensure_min_features, y_numeric, warn_on_dtype, estimator)\u001b[0m\n\u001b[1;32m    717\u001b[0m                     \u001b[0mensure_min_features\u001b[0m\u001b[0;34m=\u001b[0m\u001b[0mensure_min_features\u001b[0m\u001b[0;34m,\u001b[0m\u001b[0;34m\u001b[0m\u001b[0;34m\u001b[0m\u001b[0m\n\u001b[1;32m    718\u001b[0m                     \u001b[0mwarn_on_dtype\u001b[0m\u001b[0;34m=\u001b[0m\u001b[0mwarn_on_dtype\u001b[0m\u001b[0;34m,\u001b[0m\u001b[0;34m\u001b[0m\u001b[0;34m\u001b[0m\u001b[0m\n\u001b[0;32m--> 719\u001b[0;31m                     estimator=estimator)\n\u001b[0m\u001b[1;32m    720\u001b[0m     \u001b[0;32mif\u001b[0m \u001b[0mmulti_output\u001b[0m\u001b[0;34m:\u001b[0m\u001b[0;34m\u001b[0m\u001b[0;34m\u001b[0m\u001b[0m\n\u001b[1;32m    721\u001b[0m         y = check_array(y, 'csr', force_all_finite=True, ensure_2d=False,\n",
            "\u001b[0;32m/usr/local/lib/python3.6/dist-packages/sklearn/utils/validation.py\u001b[0m in \u001b[0;36mcheck_array\u001b[0;34m(array, accept_sparse, accept_large_sparse, dtype, order, copy, force_all_finite, ensure_2d, allow_nd, ensure_min_samples, ensure_min_features, warn_on_dtype, estimator)\u001b[0m\n\u001b[1;32m    519\u001b[0m                     \u001b[0;34m\"Reshape your data either using array.reshape(-1, 1) if \"\u001b[0m\u001b[0;34m\u001b[0m\u001b[0;34m\u001b[0m\u001b[0m\n\u001b[1;32m    520\u001b[0m                     \u001b[0;34m\"your data has a single feature or array.reshape(1, -1) \"\u001b[0m\u001b[0;34m\u001b[0m\u001b[0;34m\u001b[0m\u001b[0m\n\u001b[0;32m--> 521\u001b[0;31m                     \"if it contains a single sample.\".format(array))\n\u001b[0m\u001b[1;32m    522\u001b[0m \u001b[0;34m\u001b[0m\u001b[0m\n\u001b[1;32m    523\u001b[0m         \u001b[0;31m# in the future np.flexible dtypes will be handled like object dtypes\u001b[0m\u001b[0;34m\u001b[0m\u001b[0;34m\u001b[0m\u001b[0;34m\u001b[0m\u001b[0m\n",
            "\u001b[0;31mValueError\u001b[0m: Expected 2D array, got 1D array instead:\narray=[].\nReshape your data either using array.reshape(-1, 1) if your data has a single feature or array.reshape(1, -1) if it contains a single sample."
          ]
        }
      ]
    },
    {
      "cell_type": "markdown",
      "metadata": {
        "id": "-W-iESRglZ_g",
        "colab_type": "text"
      },
      "source": [
        "## Numerical Portraits"
      ]
    },
    {
      "cell_type": "code",
      "metadata": {
        "id": "LjFHF29mlcj4",
        "colab_type": "code",
        "outputId": "f8ed1160-0a49-431f-9efe-0b5e8a6c8405",
        "colab": {
          "base_uri": "https://localhost:8080/",
          "height": 459
        }
      },
      "source": [
        "import face_recognition\n",
        "\n",
        "img = face_recognition.load_image_file('Kirpichnikov_photo.jpg')\n",
        "\n",
        "encodings = face_recognition.face_encodings(img)\n",
        "encodings"
      ],
      "execution_count": 10,
      "outputs": [
        {
          "output_type": "execute_result",
          "data": {
            "text/plain": [
              "[array([-0.09753481,  0.04794787,  0.07078025,  0.00623107, -0.1998367 ,\n",
              "         0.08491975, -0.05944487, -0.08521111,  0.07179228, -0.1260507 ,\n",
              "         0.17576586,  0.00658569, -0.19333039, -0.02617279,  0.0440798 ,\n",
              "         0.13685608, -0.12919819, -0.09802863, -0.12604576, -0.13514684,\n",
              "        -0.06145347,  0.01246615, -0.01722048,  0.06320072, -0.10881897,\n",
              "        -0.34184122, -0.04033438, -0.0057351 ,  0.01201946, -0.04553798,\n",
              "        -0.00777772,  0.00834161, -0.1636247 ,  0.01095734, -0.04242227,\n",
              "         0.04527327, -0.03913929, -0.02498481,  0.15728328, -0.03879659,\n",
              "        -0.18800959,  0.06610786,  0.03923037,  0.22126928,  0.2163702 ,\n",
              "         0.04629895,  0.02557884,  0.02972666,  0.15767325, -0.28163555,\n",
              "         0.08437591,  0.13688552,  0.08530917,  0.00263935,  0.02720398,\n",
              "        -0.15879464, -0.08756046,  0.1760966 , -0.0692291 ,  0.04697439,\n",
              "         0.01252024, -0.07511075, -0.02056775, -0.0938143 ,  0.17380162,\n",
              "         0.18466964, -0.09051812, -0.19009145,  0.10588343, -0.15825942,\n",
              "        -0.1014919 , -0.04047599, -0.13751087, -0.14911495, -0.35275736,\n",
              "         0.10730074,  0.43264762,  0.12367911, -0.20074026, -0.00803041,\n",
              "        -0.01583071,  0.0450229 ,  0.11577065,  0.08274918, -0.02360814,\n",
              "        -0.14004621, -0.06786844,  0.01451778,  0.18164009, -0.01457109,\n",
              "        -0.06838985,  0.16250531,  0.04072219,  0.03710957,  0.00443966,\n",
              "         0.06958736, -0.07494224,  0.06031206, -0.09891494,  0.09652473,\n",
              "        -0.00211646, -0.02335208,  0.05730703,  0.07184944, -0.16466388,\n",
              "         0.25236854, -0.0161093 ,  0.0612512 ,  0.03545363,  0.09421575,\n",
              "        -0.13741443, -0.00602095,  0.14769828, -0.25808638,  0.21151192,\n",
              "         0.19154318, -0.02204345,  0.19609216,  0.10094646,  0.11221661,\n",
              "         0.03327154,  0.08169612, -0.16571836, -0.10886532,  0.03052273,\n",
              "        -0.08179928,  0.00878071,  0.12379359])]"
            ]
          },
          "metadata": {
            "tags": []
          },
          "execution_count": 10
        }
      ]
    },
    {
      "cell_type": "code",
      "metadata": {
        "id": "RHwjt_FXDiwT",
        "colab_type": "code",
        "outputId": "d9507112-70dc-409b-94d4-63ab7ffa605e",
        "colab": {
          "base_uri": "https://localhost:8080/",
          "height": 717
        }
      },
      "source": [
        "import cv2\n",
        "import face_recognition\n",
        "import numpy as np\n",
        "from google.colab.patches import cv2_imshow\n",
        "\n",
        "portrait = np.zeros([700,700,3])\n",
        "\n",
        "for y in range(len(portrait)):\n",
        "    for x in range(len(portrait[0])):\n",
        "        portrait[y, x] = [0,0,0]\n",
        "\n",
        "font = cv2.FONT_HERSHEY_SIMPLEX\n",
        "cv2.putText(portrait,'Kirpichnikov_photo.jpg', (10, 20), font, 0.5,(255,255,255), 1, cv2.LINE_AA)\n",
        "\n",
        "cv2_imshow(portrait)\n"
      ],
      "execution_count": 14,
      "outputs": [
        {
          "output_type": "display_data",
          "data": {
            "image/png": "[encoded data removed]",
            "text/plain": [
              "<PIL.Image.Image image mode=RGB size=700x700 at 0x7FE1DBE533C8>"
            ]
          },
          "metadata": {
            "tags": []
          }
        }
      ]
    }
  ]
}